{
 "cells": [
  {
   "cell_type": "markdown",
   "id": "0b6af50e",
   "metadata": {},
   "source": [
    "\n",
    "# Review with AI: Custom Functions\n",
    "\n",
    "Use this notebook to reinforce your understanding of how to write custom functions in Python, including parameters, default parameters, return statements, and scope.\n",
    "\n",
    "### How to use this notebook:\n",
    "- **Copy and paste** the provided prompts and questions into your preferred AI tool (such as ChatGPT or Copilot).\n",
    "- **Check your understanding** by explaining concepts in your own words and having AI correct or clarify your explanations.\n",
    "- **Generate practice problems** using the provided specific prompt, attempt solving them, and have AI check your answers.\n"
   ]
  },
  {
   "cell_type": "markdown",
   "id": "29c36be9",
   "metadata": {},
   "source": [
    "\n",
    "## AI Setup Prompt\n",
    "\n",
    "Start by pasting this prompt into your AI for clear, helpful responses:\n",
    "\n",
    "```\n",
    "I am a beginner in an introductory Python programming course. When I ask questions or describe a concept, please respond as my tutor by explaining in simple, easy-to-understand language. Correct any mistakes gently and clarify misconceptions. Use examples or metaphors when helpful. Let me know what I'm understanding well and what I might need to improve or clarify.\n",
    "```\n"
   ]
  },
  {
   "cell_type": "markdown",
   "id": "2c6472d8",
   "metadata": {},
   "source": [
    "\n",
    "## Questions to Review Concepts\n",
    "\n",
    "Ask your AI tutor these questions to reinforce your understanding:\n",
    "\n",
    "- How do I write my own functions in Python?\n",
    "- What is the difference between arguments and parameters?\n",
    "- How do default parameters work in Python functions?\n",
    "- What does the `return` statement do? Can a function have multiple returns?\n",
    "- Can I return multiple values from one function?\n",
    "- Why is understanding scope important in Python? Why should I avoid using global variables inside functions?\n",
    "- How do the `import` statements and module aliases work in Python?\n"
   ]
  },
  {
   "cell_type": "markdown",
   "id": "2edfc776",
   "metadata": {},
   "source": [
    "\n",
    "## Check Your Understanding\n",
    "\n",
    "Explain the following concepts in your own words to AI and ask for corrections or clarifications:\n",
    "\n",
    "- The difference between defining and calling a function.\n",
    "- What happens when you use a default parameter in a function, but also provide an argument when calling the function.\n",
    "- How Python manages local versus global scope.\n"
   ]
  },
  {
   "cell_type": "markdown",
   "id": "016a58d1",
   "metadata": {},
   "source": [
    "\n",
    "## Generate Your Own Practice Question\n",
    "\n",
    "Use the following prompt to generate a specific practice problem with AI. After attempting it, have AI review your solution:\n",
    "\n",
    "```\n",
    "I am a beginning python student in an intro course that is learning coding for the first time. I want you to create a practice problem for me on creating custom functions. So far, I've learned how to create variables, get input from users, use some built-in functions, write if statements, basic for and while loops, lists, and dictionaries. The problem you create doesn't have to use all those things (in fact, I'd prefer that it doesn't, so it isn't too hard), I just want to give you context on where in the course I'm at. Provide only the problem without solutions. After attempting it, I'll show you my code to check if I did it right.\n",
    "```\n"
   ]
  }
 ],
 "metadata": {},
 "nbformat": 4,
 "nbformat_minor": 5
}
